{
 "cells": [
  {
   "cell_type": "code",
   "execution_count": 1,
   "metadata": {},
   "outputs": [
    {
     "name": "stderr",
     "output_type": "stream",
     "text": [
      "OpenCV: not authorized to capture video (status 0), requesting...\n",
      "OpenCV: camera failed to properly initialize!\n"
     ]
    }
   ],
   "source": [
    "import cv2\n",
    "import numpy as np\n",
    "\n",
    "# Path to the Haar cascade file for face detection\n",
    "HAAR_CASCADE_PATH = \"haarcascade_frontalface_alt.xml\"\n",
    "\n",
    "# Load the cascade for face detection\n",
    "cascade = cv2.CascadeClassifier(HAAR_CASCADE_PATH)\n",
    "\n",
    "def detect_faces(image):\n",
    "    # Detect faces in the image\n",
    "    detected = cascade.detectMultiScale(image, scaleFactor=1.3, minNeighbors=4, flags=cv2.CASCADE_SCALE_IMAGE, minSize=(20, 20))\n",
    "    print(detected)\n",
    "\n",
    "    faces = []\n",
    "    if len(detected) > 0:\n",
    "        for (x, y, w, h) in detected:\n",
    "            faces.append((x, y, w, h))\n",
    "    return faces\n",
    "\n",
    "def calculate_movement(faceCenter, prevCenter):\n",
    "    # Calculate the Euclidean distance between the current center and previous center of the face\n",
    "    if prevCenter is None:\n",
    "        return 0\n",
    "    movement = np.sqrt((faceCenter[0] - prevCenter[0]) ** 2 + (faceCenter[1] - prevCenter[1]) ** 2)\n",
    "    return movement\n",
    "\n",
    "def main(video_path):\n",
    "    # Initialize video capture from the video file\n",
    "    cap = cv2.VideoCapture(video_path)\n",
    "\n",
    "    prevCenter = None  # This will store the previous frame's face position\n",
    "    total_movement = 0  # This accumulates the total head movement\n",
    "\n",
    "    while True:\n",
    "        ret, frame = cap.read()\n",
    "        if not ret:\n",
    "            break\n",
    "\n",
    "        # Convert frame to grayscale for face detection\n",
    "        gray = cv2.cvtColor(frame, cv2.COLOR_BGR2GRAY)\n",
    "        faces = detect_faces(gray)\n",
    "\n",
    "        if faces:\n",
    "            x, y, w, h = faces[0]  # Consider the first detected face\n",
    "            currentCenter = (x + w//2, y + h//2)\n",
    "            cv2.rectangle(frame, (x, y), (x + w, y + h), (255, 0, 0), 2)\n",
    "\n",
    "            movement = calculate_movement(currentCenter, prevCenter)\n",
    "            total_movement += movement\n",
    "            prevCenter = currentCenter  # Update the previous center\n",
    "\n",
    "            # Display the total movement on the frame\n",
    "            cv2.putText(frame, f\"Total Movement: {total_movement:.2f}\", (10, 30), cv2.FONT_HERSHEY_SIMPLEX, 0.7, (0, 255, 0), 2)\n",
    "\n",
    "        cv2.imshow('Head Movement Tracking', frame)\n",
    "        if cv2.waitKey(1) & 0xFF == ord('q'):\n",
    "            break\n",
    "\n",
    "    print(f\"Total head movement throughout the video: {total_movement:.2f}\")\n",
    "    cap.release()\n",
    "    cv2.destroyAllWindows()\n",
    "\n",
    "if __name__ == \"__main__\":\n",
    "    # Specify the path to your video file here\n",
    "    video_file_path = 'test_video.mp4'\n",
    "    main(video_file_path)\n"
   ]
  }
 ],
 "metadata": {
  "kernelspec": {
   "display_name": "Python 3",
   "language": "python",
   "name": "python3"
  },
  "language_info": {
   "codemirror_mode": {
    "name": "ipython",
    "version": 3
   },
   "file_extension": ".py",
   "mimetype": "text/x-python",
   "name": "python",
   "nbconvert_exporter": "python",
   "pygments_lexer": "ipython3",
   "version": "3.8.18"
  }
 },
 "nbformat": 4,
 "nbformat_minor": 2
}
